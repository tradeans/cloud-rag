{
 "cells": [
  {
   "cell_type": "code",
   "execution_count": null,
   "metadata": {},
   "outputs": [],
   "source": [
    "import os\n",
    "import logging\n",
    "from langchain_community.document_loaders import PyPDFLoader, Docx2txtLoader, TextLoader\n",
    "from langchain_community.vectorstores import Chroma\n",
    "from langchain_openai import OpenAIEmbeddings\n",
    "from langchain.text_splitter import RecursiveCharacterTextSplitter\n",
    "from dotenv import load_dotenv\n",
    "import json\n",
    "from pathlib import Path\n",
    "import streamlit as st\n",
    "from langchain_openai import ChatOpenAI"
   ]
  },
  {
   "cell_type": "code",
   "execution_count": null,
   "metadata": {},
   "outputs": [],
   "source": [
    "# Setup logging\n",
    "logging.basicConfig(level=logging.DEBUG)\n",
    "\n",
    "# Load environment variables from .env file\n",
    "load_dotenv()\n",
    "\n",
    "# Fetch the OpenAI API key from environment variables\n",
    "api_key = os.getenv(\"OPENAI_API_KEY\")\n",
    "if not api_key:\n",
    "    raise ValueError(\"API key is missing. Please add it to the .env file.\")"
   ]
  },
  {
   "cell_type": "code",
   "execution_count": null,
   "metadata": {},
   "outputs": [],
   "source": [
    "# Initialize the LLM (GPT-4 model)\n",
    "llm = ChatOpenAI(model=\"gpt-4o\", temperature=0.3, openai_api_key= api_key)"
   ]
  },
  {
   "cell_type": "code",
   "execution_count": null,
   "metadata": {},
   "outputs": [],
   "source": [
    "# Function to get the appropriate loader for the document type\n",
    "def get_loader(file_path):\n",
    "    \"\"\" Returns the appropriate document loader based on file type \"\"\"\n",
    "    if file_path.endswith(\".pdf\"):\n",
    "        loader = PyPDFLoader(file_path)\n",
    "    elif file_path.endswith(\".docx\"):\n",
    "        loader = Docx2txtLoader(file_path)\n",
    "    elif file_path.endswith(\".txt\") or file_path.endswith(\".md\"):\n",
    "        loader = TextLoader(file_path)\n",
    "    elif file_path.endswith(\".json\"):\n",
    "        loader = json(file_path)\n",
    "    else:\n",
    "        raise ValueError(f\"Document type {file_path} is not supported.\")\n",
    "    \n",
    "    # Ensure loader returns documents in iterable format\n",
    "    documents = loader.load() if hasattr(loader, 'load') else []\n",
    "    print(f\"Loaded {len(documents)} documents from {file_path}\")  # Log the number of documents loaded\n",
    "    return documents"
   ]
  },
  {
   "cell_type": "code",
   "execution_count": null,
   "metadata": {},
   "outputs": [],
   "source": [
    "def process_documents(file_paths):\n",
    "    \"\"\" Processes documents (PDF, DOCX, TXT, JSON) into vector embeddings. \"\"\"\n",
    "    docs = []\n",
    "    for file_path in file_paths:\n",
    "        docs.extend(get_loader(file_path))  # Load documents based on file type\n",
    "\n",
    "    if len(docs) == 0:\n",
    "        raise ValueError(\"No valid documents loaded. Please check the files in the docs folder.\")\n",
    "    \n",
    "    print(f\"Loaded {len(docs)} documents in total.\")  # Log total number of documents loaded\n",
    "\n",
    "    # Initialize the embeddings\n",
    "    embeddings = OpenAIEmbeddings(openai_api_key= api_key)  # Provide OpenAI embeddings\n",
    "\n",
    "    # Split the documents into chunks\n",
    "    text_splitter = RecursiveCharacterTextSplitter(chunk_size=7000, chunk_overlap=3000)\n",
    "    document_chunks = text_splitter.split_documents(docs)\n",
    "    print(f\"Split documents into {len(document_chunks)} chunks.\")  # Log number of document chunks\n",
    "\n",
    "    if len(document_chunks) == 0:\n",
    "        raise ValueError(\"No valid document chunks created. Please check your documents.\")\n",
    "\n",
    "    # Create the vector database (Chroma)\n",
    "    vector_db = Chroma.from_documents(document_chunks, embedding=embeddings)\n",
    "    return vector_db"
   ]
  },
  {
   "cell_type": "code",
   "execution_count": null,
   "metadata": {},
   "outputs": [],
   "source": [
    "# Function to get all file paths in the 'docs' folder\n",
    "def get_all_document_files(doc_folder=\"docs\"):\n",
    "    \"\"\"Returns a list of all files in the specified folder.\"\"\"\n",
    "    return [os.path.join(doc_folder, f) for f in os.listdir(doc_folder) if os.path.isfile(os.path.join(doc_folder, f))]"
   ]
  },
  {
   "cell_type": "code",
   "execution_count": null,
   "metadata": {},
   "outputs": [],
   "source": [
    "# Correct function to retrieve relevant answers from the vector database\n",
    "def get_answer_from_query(vector_db, query):\n",
    "    # Retrieve the most relevant documents based on the query\n",
    "    retriever = vector_db.as_retriever(search_kwargs={\"k\": 6})  # k=4 retrieves top 4 relevant results\n",
    "    relevant_documents = retriever.get_relevant_documents(query)\n",
    "\n",
    "    # Use the language model to generate an answer based on the relevant documents\n",
    "    response = llm.predict(f\"\"\"\n",
    "    You are an assistant for ISAT University. The user will ask questions related to the university. \n",
    "    Your task is to answer their exact question using the information provided by the following documents.\n",
    "\n",
    "    The documents provided are:\n",
    "    {relevant_documents}\n",
    "\n",
    "    User's Question: {query}\n",
    "\n",
    "    Based on the documents above, provide a clear and concise answer to the user's question.\n",
    "    \"\"\")\n",
    "\n",
    "    return response"
   ]
  },
  {
   "cell_type": "code",
   "execution_count": null,
   "metadata": {},
   "outputs": [],
   "source": [
    "def chat():\n",
    "    user_input = st.text_input(\"You: \", key=\"input\")\n",
    "    if user_input:\n",
    "        # Add the user input to the chat history\n",
    "        st.session_state.messages.append({\"role\": \"user\", \"content\": user_input})\n",
    "        \n",
    "        # Get all documents in the \"docs\" folder\n",
    "        doc_files = get_all_document_files(\"docs\")  # Get all files in the docs folder\n",
    "\n",
    "        # Process all the documents and retrieve an answer\n",
    "        try:\n",
    "            vector_db = process_documents(doc_files)  # Process all documents in the docs folder\n",
    "            answer = get_answer_from_query(vector_db, user_input)\n",
    "            st.session_state.messages.append({\"role\": \"assistant\", \"content\": answer})\n",
    "        except Exception as e:\n",
    "            st.session_state.messages.append({\"role\": \"assistant\", \"content\": f\"Error: {e}\"})\n",
    "\n",
    "    # Display the chat history\n",
    "    for message in st.session_state.messages:\n",
    "        if message[\"role\"] == \"user\":\n",
    "            st.markdown(f\"**You:** {message['content']}\")\n",
    "        else:\n",
    "            st.markdown(f\"**Assistant:** {message['content']}\")"
   ]
  }
 ],
 "metadata": {
  "kernelspec": {
   "display_name": "Python 3",
   "language": "python",
   "name": "python3"
  },
  "language_info": {
   "codemirror_mode": {
    "name": "ipython",
    "version": 3
   },
   "file_extension": ".py",
   "mimetype": "text/x-python",
   "name": "python",
   "nbconvert_exporter": "python",
   "pygments_lexer": "ipython3",
   "version": "3.13.2"
  }
 },
 "nbformat": 4,
 "nbformat_minor": 2
}
